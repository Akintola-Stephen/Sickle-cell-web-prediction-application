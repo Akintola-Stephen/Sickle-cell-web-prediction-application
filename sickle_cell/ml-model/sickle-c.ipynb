{
 "metadata": {
  "language_info": {
   "codemirror_mode": {
    "name": "ipython",
    "version": 3
   },
   "file_extension": ".py",
   "mimetype": "text/x-python",
   "name": "python",
   "nbconvert_exporter": "python",
   "pygments_lexer": "ipython3",
   "version": "3.8.1-final"
  },
  "orig_nbformat": 2,
  "kernelspec": {
   "name": "python3",
   "display_name": "Python 3.8.1 32-bit",
   "metadata": {
    "interpreter": {
     "hash": "5adb264f32119a63a39960d8fdfa6b973b4ff10dd8d575ea3a7792f28b2568eb"
    }
   }
  }
 },
 "nbformat": 4,
 "nbformat_minor": 2,
 "cells": [
  {
   "cell_type": "code",
   "execution_count": 1,
   "metadata": {},
   "outputs": [],
   "source": [
    "import numpy as np\n",
    "import pandas as pd\n",
    "from numpy import mean, std\n",
    "from matplotlib import pyplot"
   ]
  },
  {
   "cell_type": "code",
   "execution_count": 2,
   "metadata": {},
   "outputs": [],
   "source": [
    "import warnings\n",
    "warnings.simplefilter(action = 'ignore', category = FutureWarning)"
   ]
  },
  {
   "cell_type": "code",
   "execution_count": 3,
   "metadata": {},
   "outputs": [
    {
     "output_type": "execute_result",
     "data": {
      "text/plain": [
       "   S/N   Gender (sex)      Age of patient    Age at diagnosis   \\\n",
       "0    1               0                 39                   15   \n",
       "1    2               1                 33                    1   \n",
       "2    3               0                 30                    7   \n",
       "3    4               0                 30                   11   \n",
       "4    5               0                 20                   13   \n",
       "\n",
       "   Body Mass Index BMI  Packet Cell Volume (PCV)  Frequency of Anemia Crisis  \\\n",
       "0                   36                        97                           3   \n",
       "1                   63                        15                           8   \n",
       "2                   29                        10                           7   \n",
       "3                   29                        84                           3   \n",
       "4                   11                        13                           5   \n",
       "\n",
       "   Frequency of Blood Transfusions  \\\n",
       "0                                3   \n",
       "1                                4   \n",
       "2                                3   \n",
       "3                                5   \n",
       "4                                2   \n",
       "\n",
       "      Peripheral Capillary Oxygen Saturation (Spo2)  Systolic BP  ...   Hb F   \\\n",
       "0                                                67          118  ...      12   \n",
       "1                                                70          117  ...      13   \n",
       "2                                                16          124  ...      14   \n",
       "3                                                73          119  ...      14   \n",
       "4                                                54          105  ...      16   \n",
       "\n",
       "   Temp  Mean corpuscular volume (MCV)  Platelets (PLTS)  \\\n",
       "0    38                             68            318376   \n",
       "1    38                            114            230872   \n",
       "2    39                             79            234115   \n",
       "3    41                            116            202259   \n",
       "4    40                             85            182085   \n",
       "\n",
       "   Alanine Aminotransferase (ALT) test  Bilirubin  \\\n",
       "0                                   35   0.791609   \n",
       "1                                   16   0.642247   \n",
       "2                                   21   0.123453   \n",
       "3                                   42   0.422580   \n",
       "4                                   38   0.945640   \n",
       "\n",
       "   Lactate Dehydrogenase (LDH)  Parameter total value  Percentage average  \\\n",
       "0                          311            319420.7916           79.559634   \n",
       "1                          304            231967.6422           57.777268   \n",
       "2                          353            235125.1235           58.563717   \n",
       "3                          323            203316.4226           50.640974   \n",
       "4                          300            183007.9456           45.582647   \n",
       "\n",
       "       Pain Classification  \n",
       "0  Vaso-occlusive Crisis\\n  \n",
       "1  Vaso-occlusive Crisis\\n  \n",
       "2  Vaso-occlusive Crisis\\n  \n",
       "3                Mild Pain  \n",
       "4                Mild Pain  \n",
       "\n",
       "[5 rows x 23 columns]"
      ],
      "text/html": "<div>\n<style scoped>\n    .dataframe tbody tr th:only-of-type {\n        vertical-align: middle;\n    }\n\n    .dataframe tbody tr th {\n        vertical-align: top;\n    }\n\n    .dataframe thead th {\n        text-align: right;\n    }\n</style>\n<table border=\"1\" class=\"dataframe\">\n  <thead>\n    <tr style=\"text-align: right;\">\n      <th></th>\n      <th>S/N</th>\n      <th>Gender (sex)</th>\n      <th>Age of patient</th>\n      <th>Age at diagnosis</th>\n      <th>Body Mass Index BMI</th>\n      <th>Packet Cell Volume (PCV)</th>\n      <th>Frequency of Anemia Crisis</th>\n      <th>Frequency of Blood Transfusions</th>\n      <th>Peripheral Capillary Oxygen Saturation (Spo2)</th>\n      <th>Systolic BP</th>\n      <th>...</th>\n      <th>Hb F</th>\n      <th>Temp</th>\n      <th>Mean corpuscular volume (MCV)</th>\n      <th>Platelets (PLTS)</th>\n      <th>Alanine Aminotransferase (ALT) test</th>\n      <th>Bilirubin</th>\n      <th>Lactate Dehydrogenase (LDH)</th>\n      <th>Parameter total value</th>\n      <th>Percentage average</th>\n      <th>Pain Classification</th>\n    </tr>\n  </thead>\n  <tbody>\n    <tr>\n      <th>0</th>\n      <td>1</td>\n      <td>0</td>\n      <td>39</td>\n      <td>15</td>\n      <td>36</td>\n      <td>97</td>\n      <td>3</td>\n      <td>3</td>\n      <td>67</td>\n      <td>118</td>\n      <td>...</td>\n      <td>12</td>\n      <td>38</td>\n      <td>68</td>\n      <td>318376</td>\n      <td>35</td>\n      <td>0.791609</td>\n      <td>311</td>\n      <td>319420.7916</td>\n      <td>79.559634</td>\n      <td>Vaso-occlusive Crisis\\n</td>\n    </tr>\n    <tr>\n      <th>1</th>\n      <td>2</td>\n      <td>1</td>\n      <td>33</td>\n      <td>1</td>\n      <td>63</td>\n      <td>15</td>\n      <td>8</td>\n      <td>4</td>\n      <td>70</td>\n      <td>117</td>\n      <td>...</td>\n      <td>13</td>\n      <td>38</td>\n      <td>114</td>\n      <td>230872</td>\n      <td>16</td>\n      <td>0.642247</td>\n      <td>304</td>\n      <td>231967.6422</td>\n      <td>57.777268</td>\n      <td>Vaso-occlusive Crisis\\n</td>\n    </tr>\n    <tr>\n      <th>2</th>\n      <td>3</td>\n      <td>0</td>\n      <td>30</td>\n      <td>7</td>\n      <td>29</td>\n      <td>10</td>\n      <td>7</td>\n      <td>3</td>\n      <td>16</td>\n      <td>124</td>\n      <td>...</td>\n      <td>14</td>\n      <td>39</td>\n      <td>79</td>\n      <td>234115</td>\n      <td>21</td>\n      <td>0.123453</td>\n      <td>353</td>\n      <td>235125.1235</td>\n      <td>58.563717</td>\n      <td>Vaso-occlusive Crisis\\n</td>\n    </tr>\n    <tr>\n      <th>3</th>\n      <td>4</td>\n      <td>0</td>\n      <td>30</td>\n      <td>11</td>\n      <td>29</td>\n      <td>84</td>\n      <td>3</td>\n      <td>5</td>\n      <td>73</td>\n      <td>119</td>\n      <td>...</td>\n      <td>14</td>\n      <td>41</td>\n      <td>116</td>\n      <td>202259</td>\n      <td>42</td>\n      <td>0.422580</td>\n      <td>323</td>\n      <td>203316.4226</td>\n      <td>50.640974</td>\n      <td>Mild Pain</td>\n    </tr>\n    <tr>\n      <th>4</th>\n      <td>5</td>\n      <td>0</td>\n      <td>20</td>\n      <td>13</td>\n      <td>11</td>\n      <td>13</td>\n      <td>5</td>\n      <td>2</td>\n      <td>54</td>\n      <td>105</td>\n      <td>...</td>\n      <td>16</td>\n      <td>40</td>\n      <td>85</td>\n      <td>182085</td>\n      <td>38</td>\n      <td>0.945640</td>\n      <td>300</td>\n      <td>183007.9456</td>\n      <td>45.582647</td>\n      <td>Mild Pain</td>\n    </tr>\n  </tbody>\n</table>\n<p>5 rows × 23 columns</p>\n</div>"
     },
     "metadata": {},
     "execution_count": 3
    }
   ],
   "source": [
    "url = 'SICKLE CELL DISEASE DATASET.xlsx'\n",
    "df = pd.read_excel(url)\n",
    "df.head()"
   ]
  },
  {
   "source": [
    "## Data analysis"
   ],
   "cell_type": "markdown",
   "metadata": {}
  },
  {
   "cell_type": "code",
   "execution_count": 4,
   "metadata": {},
   "outputs": [
    {
     "output_type": "stream",
     "name": "stdout",
     "text": [
      "<class 'pandas.core.frame.DataFrame'>\nRangeIndex: 100 entries, 0 to 99\nData columns (total 22 columns):\n #   Column                                            Non-Null Count  Dtype  \n---  ------                                            --------------  -----  \n 0    Gender (sex)                                     100 non-null    int64  \n 1      Age of patient                                 100 non-null    int64  \n 2     Age at diagnosis                                100 non-null    int64  \n 3   Body Mass Index BMI                               100 non-null    int64  \n 4   Packet Cell Volume (PCV)                          100 non-null    int64  \n 5   Frequency of Anemia Crisis                        100 non-null    int64  \n 6   Frequency of Blood Transfusions                   100 non-null    int64  \n 7      Peripheral Capillary Oxygen Saturation (Spo2)  100 non-null    int64  \n 8   Systolic BP                                       100 non-null    int64  \n 9   Diastolic BP                                      100 non-null    int64  \n 10  Heart Rate (Pulse)                                100 non-null    int64  \n 11  Respiratory Rate (Resp)                           100 non-null    int64  \n 12   Hb F                                             100 non-null    int64  \n 13  Temp                                              100 non-null    int64  \n 14  Mean corpuscular volume (MCV)                     100 non-null    int64  \n 15  Platelets (PLTS)                                  100 non-null    int64  \n 16  Alanine Aminotransferase (ALT) test               100 non-null    int64  \n 17  Bilirubin                                         100 non-null    float64\n 18  Lactate Dehydrogenase (LDH)                       100 non-null    int64  \n 19  Parameter total value                             100 non-null    float64\n 20  Percentage average                                100 non-null    float64\n 21  Pain Classification                               100 non-null    object \ndtypes: float64(3), int64(18), object(1)\nmemory usage: 16.9+ KB\n"
     ]
    }
   ],
   "source": [
    "df.drop(['S/N'], axis = 1, inplace = True)\n",
    "df.info()"
   ]
  },
  {
   "cell_type": "code",
   "execution_count": 5,
   "metadata": {},
   "outputs": [],
   "source": [
    "# function that checks for null values in the dataset\n",
    "def  null_check(n):\n",
    "    nc = n.isna().sum() / 100\n",
    "    return nc"
   ]
  },
  {
   "cell_type": "code",
   "execution_count": 6,
   "metadata": {},
   "outputs": [
    {
     "output_type": "execute_result",
     "data": {
      "text/plain": [
       " Gender (sex)                                       0.0\n",
       "   Age of patient                                   0.0\n",
       "  Age at diagnosis                                  0.0\n",
       "Body Mass Index BMI                                 0.0\n",
       "Packet Cell Volume (PCV)                            0.0\n",
       "Frequency of Anemia Crisis                          0.0\n",
       "Frequency of Blood Transfusions                     0.0\n",
       "   Peripheral Capillary Oxygen Saturation (Spo2)    0.0\n",
       "Systolic BP                                         0.0\n",
       "Diastolic BP                                        0.0\n",
       "Heart Rate (Pulse)                                  0.0\n",
       "Respiratory Rate (Resp)                             0.0\n",
       " Hb F                                               0.0\n",
       "Temp                                                0.0\n",
       "Mean corpuscular volume (MCV)                       0.0\n",
       "Platelets (PLTS)                                    0.0\n",
       "Alanine Aminotransferase (ALT) test                 0.0\n",
       "Bilirubin                                           0.0\n",
       "Lactate Dehydrogenase (LDH)                         0.0\n",
       "Parameter total value                               0.0\n",
       "Percentage average                                  0.0\n",
       "Pain Classification                                 0.0\n",
       "dtype: float64"
      ]
     },
     "metadata": {},
     "execution_count": 6
    }
   ],
   "source": [
    "null_check(df)"
   ]
  },
  {
   "cell_type": "code",
   "execution_count": 7,
   "metadata": {},
   "outputs": [],
   "source": [
    "# The above shows we're working with a clean dataset"
   ]
  },
  {
   "cell_type": "code",
   "execution_count": 8,
   "metadata": {},
   "outputs": [
    {
     "output_type": "execute_result",
     "data": {
      "text/plain": [
       "array(['Vaso-occlusive Crisis\\n', 'Mild Pain'], dtype=object)"
      ]
     },
     "metadata": {},
     "execution_count": 8
    }
   ],
   "source": [
    "# Target variable\n",
    "df['Pain Classification'].unique()"
   ]
  },
  {
   "cell_type": "code",
   "execution_count": 9,
   "metadata": {},
   "outputs": [
    {
     "output_type": "execute_result",
     "data": {
      "text/plain": [
       "0     NaN\n",
       "1     NaN\n",
       "2     NaN\n",
       "3     1.0\n",
       "4     1.0\n",
       "     ... \n",
       "95    1.0\n",
       "96    NaN\n",
       "97    NaN\n",
       "98    1.0\n",
       "99    NaN\n",
       "Name: Pain Classification, Length: 100, dtype: float64"
      ]
     },
     "metadata": {},
     "execution_count": 9
    }
   ],
   "source": [
    "\"\"\" Converting  Pain Classification class to a Norminal feature\n",
    "\"\"\"\n",
    "painclassmap = {\n",
    "    'Vaso-occlusive Crisis': 0,\n",
    "    'Mild Pain':1\n",
    "    }\n",
    "df['Pain Classification'] = df['Pain Classification'].map(painclassmap)\n",
    "df['Pain Classification']"
   ]
  },
  {
   "cell_type": "code",
   "execution_count": 15,
   "metadata": {},
   "outputs": [
    {
     "output_type": "execute_result",
     "data": {
      "text/plain": [
       "0    NaN\n",
       "1    NaN\n",
       "2    NaN\n",
       "3    NaN\n",
       "4    NaN\n",
       "      ..\n",
       "95   NaN\n",
       "96   NaN\n",
       "97   NaN\n",
       "98   NaN\n",
       "99   NaN\n",
       "Name: Pain Classification, Length: 100, dtype: float64"
      ]
     },
     "metadata": {},
     "execution_count": 15
    }
   ],
   "source": [
    "map_df(df).unique()"
   ]
  },
  {
   "cell_type": "code",
   "execution_count": null,
   "metadata": {},
   "outputs": [],
   "source": []
  }
 ]
}